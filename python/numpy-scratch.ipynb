{
 "cells": [
  {
   "cell_type": "code",
   "execution_count": 25,
   "id": "e3a134b0-ba27-4683-aa62-5f210d41fb86",
   "metadata": {},
   "outputs": [],
   "source": [
    "import numpy as np\n",
    "import matplotlib.pyplot as plt\n",
    "import numpy.random as rg"
   ]
  },
  {
   "cell_type": "code",
   "execution_count": 2,
   "id": "b3be233a-5130-43e2-975d-e6baaf33eec8",
   "metadata": {},
   "outputs": [],
   "source": [
    "a = np.arange(15).reshape(3,5)"
   ]
  },
  {
   "cell_type": "code",
   "execution_count": 3,
   "id": "6287e041-e179-4192-8ae1-c54cbe160d8f",
   "metadata": {},
   "outputs": [
    {
     "data": {
      "text/plain": [
       "array([[ 0,  1,  2,  3,  4],\n",
       "       [ 5,  6,  7,  8,  9],\n",
       "       [10, 11, 12, 13, 14]])"
      ]
     },
     "execution_count": 3,
     "metadata": {},
     "output_type": "execute_result"
    }
   ],
   "source": [
    "a"
   ]
  },
  {
   "cell_type": "code",
   "execution_count": 4,
   "id": "c53840c1-fb00-4375-9332-4151361ffe4c",
   "metadata": {},
   "outputs": [
    {
     "data": {
      "text/plain": [
       "'int64'"
      ]
     },
     "execution_count": 4,
     "metadata": {},
     "output_type": "execute_result"
    }
   ],
   "source": [
    "a.dtype.name"
   ]
  },
  {
   "cell_type": "code",
   "execution_count": 5,
   "id": "49949952-9cad-4b70-a8cf-22e77828cc56",
   "metadata": {},
   "outputs": [],
   "source": [
    "b = np.array([1,3,4],dtype='float64')"
   ]
  },
  {
   "cell_type": "code",
   "execution_count": 6,
   "id": "593408ca-083c-4c69-babd-6d7eeebb0149",
   "metadata": {},
   "outputs": [
    {
     "data": {
      "text/plain": [
       "array([1., 3., 4.])"
      ]
     },
     "execution_count": 6,
     "metadata": {},
     "output_type": "execute_result"
    }
   ],
   "source": [
    "b"
   ]
  },
  {
   "cell_type": "code",
   "execution_count": 7,
   "id": "34d5157b-1b63-41e8-ac7c-18d6a433fcbc",
   "metadata": {},
   "outputs": [],
   "source": [
    "c = np.array([1. + 2j, 4. - 4j])"
   ]
  },
  {
   "cell_type": "code",
   "execution_count": 8,
   "id": "40346635-5d18-4507-8249-9326b11a2550",
   "metadata": {},
   "outputs": [
    {
     "data": {
      "text/plain": [
       "array([1.+2.j, 4.-4.j])"
      ]
     },
     "execution_count": 8,
     "metadata": {},
     "output_type": "execute_result"
    }
   ],
   "source": [
    "c"
   ]
  },
  {
   "cell_type": "code",
   "execution_count": 9,
   "id": "320d1c38-f4d6-4d86-aaa5-f8ddd1e4ea0d",
   "metadata": {},
   "outputs": [
    {
     "data": {
      "text/plain": [
       "array([[4.66684355e-310, 0.00000000e+000, 0.00000000e+000,\n",
       "        0.00000000e+000, 6.90497430e-310],\n",
       "       [9.51479173e+169, 1.74254413e-076, 5.20650809e-090,\n",
       "        5.99023084e+174, 6.90501690e-310]])"
      ]
     },
     "execution_count": 9,
     "metadata": {},
     "output_type": "execute_result"
    }
   ],
   "source": [
    "rows = 2\n",
    "cols = 5\n",
    "np.empty((rows, cols))"
   ]
  },
  {
   "cell_type": "code",
   "execution_count": 15,
   "id": "f684e1b6-abf7-4578-a127-7fcfc36f9340",
   "metadata": {},
   "outputs": [
    {
     "data": {
      "text/plain": [
       "0.4587341576688498"
      ]
     },
     "execution_count": 15,
     "metadata": {},
     "output_type": "execute_result"
    }
   ],
   "source": [
    "np.random.normal(0.5, 0.6)"
   ]
  },
  {
   "cell_type": "code",
   "execution_count": 17,
   "id": "d2242991-8011-4f35-9c18-28db50182423",
   "metadata": {},
   "outputs": [
    {
     "data": {
      "text/plain": [
       "array([ 4., 12., 16.])"
      ]
     },
     "execution_count": 17,
     "metadata": {},
     "output_type": "execute_result"
    }
   ],
   "source": [
    "b*4"
   ]
  },
  {
   "cell_type": "code",
   "execution_count": 18,
   "id": "14ff1e23-7ef9-41d5-b73c-211fba25532c",
   "metadata": {},
   "outputs": [
    {
     "data": {
      "text/plain": [
       "array([1.1, 3.1, 4.1])"
      ]
     },
     "execution_count": 18,
     "metadata": {},
     "output_type": "execute_result"
    }
   ],
   "source": [
    "b + 0.1"
   ]
  },
  {
   "cell_type": "code",
   "execution_count": null,
   "id": "d1a04fae-7a17-47f5-92c5-81cf288877ef",
   "metadata": {},
   "outputs": [],
   "source": [
    "imp"
   ]
  },
  {
   "cell_type": "code",
   "execution_count": 30,
   "id": "b22c98dc-5eca-468b-af44-6ff6f5561788",
   "metadata": {},
   "outputs": [],
   "source": [
    "a = np.floor(10 * rg.random((2, 3)))\n",
    "b = np.floor(10 * rg.random((2, 3)))"
   ]
  },
  {
   "cell_type": "code",
   "execution_count": 33,
   "id": "595234c6-6759-45bb-9fc5-d40644001cee",
   "metadata": {},
   "outputs": [
    {
     "name": "stdout",
     "output_type": "stream",
     "text": [
      "a:\n",
      "[[2. 0. 1.]\n",
      " [5. 4. 1.]]\n",
      "b:\n",
      "[[8. 0. 3.]\n",
      " [6. 9. 2.]]\n"
     ]
    }
   ],
   "source": [
    "print(f\"a:\\n{a}\\nb:\\n{b}\")"
   ]
  },
  {
   "cell_type": "code",
   "execution_count": 34,
   "id": "06b8cf3f-d800-4561-bc6b-6c836f496eed",
   "metadata": {},
   "outputs": [
    {
     "name": "stdout",
     "output_type": "stream",
     "text": [
      "vstack:\n",
      "[[2. 0. 1.]\n",
      " [5. 4. 1.]\n",
      " [8. 0. 3.]\n",
      " [6. 9. 2.]]\n",
      "hstack:\n",
      "[[2. 0. 1. 8. 0. 3.]\n",
      " [5. 4. 1. 6. 9. 2.]]\n"
     ]
    }
   ],
   "source": [
    "print(f\"vstack:\\n{np.vstack((a,b))}\")\n",
    "print(f\"hstack:\\n{np.hstack((a,b))}\")"
   ]
  },
  {
   "cell_type": "code",
   "execution_count": 23,
   "id": "085c4668-fb2d-4b67-affd-4406b2f569a2",
   "metadata": {},
   "outputs": [
    {
     "data": {
      "text/plain": [
       "array([[ 0,  5, 10],\n",
       "       [ 1,  6, 11],\n",
       "       [ 2,  7, 12],\n",
       "       [ 3,  8, 13],\n",
       "       [ 4,  9, 14]])"
      ]
     },
     "execution_count": 23,
     "metadata": {},
     "output_type": "execute_result"
    }
   ],
   "source": [
    "a.T"
   ]
  },
  {
   "cell_type": "code",
   "execution_count": 35,
   "id": "ce6ac11d-8738-4668-80ce-8bcd9e6ddeed",
   "metadata": {},
   "outputs": [
    {
     "data": {
      "text/plain": [
       "True"
      ]
     },
     "execution_count": 35,
     "metadata": {},
     "output_type": "execute_result"
    }
   ],
   "source": [
    "d = b\n",
    "d is b"
   ]
  },
  {
   "cell_type": "code",
   "execution_count": 36,
   "id": "c6e46a69-da4b-4d8d-88da-bb41af7bee79",
   "metadata": {},
   "outputs": [],
   "source": [
    "d = b.view"
   ]
  },
  {
   "cell_type": "code",
   "execution_count": 37,
   "id": "2f90835e-a788-416d-be65-1bfea3a59b52",
   "metadata": {},
   "outputs": [
    {
     "data": {
      "text/plain": [
       "False"
      ]
     },
     "execution_count": 37,
     "metadata": {},
     "output_type": "execute_result"
    }
   ],
   "source": [
    "d is b"
   ]
  },
  {
   "cell_type": "code",
   "execution_count": 38,
   "id": "d5df225b-1e6c-4a82-88fb-d0382748c5fa",
   "metadata": {},
   "outputs": [
    {
     "data": {
      "text/plain": [
       "array([[8., 0., 3.],\n",
       "       [6., 9., 2.]])"
      ]
     },
     "execution_count": 38,
     "metadata": {},
     "output_type": "execute_result"
    }
   ],
   "source": [
    "b"
   ]
  },
  {
   "cell_type": "code",
   "execution_count": 42,
   "id": "ccbb5a90-7231-42f9-aa11-24543a007ed9",
   "metadata": {},
   "outputs": [
    {
     "data": {
      "text/plain": [
       "array([ 20.  ,  51.25,  82.5 , 113.75, 145.  ])"
      ]
     },
     "execution_count": 42,
     "metadata": {},
     "output_type": "execute_result"
    }
   ],
   "source": [
    "time = np.linspace(20, 145, 5)\n",
    "time"
   ]
  },
  {
   "cell_type": "code",
   "execution_count": 43,
   "id": "d14863b5-648f-4024-a751-f6b8c164bfe5",
   "metadata": {},
   "outputs": [
    {
     "data": {
      "text/plain": [
       "array([[ 0.        ,  0.84147098,  0.90929743,  0.14112001],\n",
       "       [-0.7568025 , -0.95892427, -0.2794155 ,  0.6569866 ],\n",
       "       [ 0.98935825,  0.41211849, -0.54402111, -0.99999021],\n",
       "       [-0.53657292,  0.42016704,  0.99060736,  0.65028784],\n",
       "       [-0.28790332, -0.96139749, -0.75098725,  0.14987721]])"
      ]
     },
     "execution_count": 43,
     "metadata": {},
     "output_type": "execute_result"
    }
   ],
   "source": [
    "data = np.sin(np.arange(20)).reshape(5, 4)\n",
    "data"
   ]
  },
  {
   "cell_type": "code",
   "execution_count": 53,
   "id": "42a2cd61-1142-4516-9e54-6b0b1b2bacdc",
   "metadata": {},
   "outputs": [],
   "source": [
    "s = np.array([[12,1,1],[5,-1,9]])"
   ]
  },
  {
   "cell_type": "code",
   "execution_count": 54,
   "id": "5d671ecc-4333-4a75-a8da-57f188a0991b",
   "metadata": {},
   "outputs": [
    {
     "data": {
      "text/plain": [
       "array([0, 2])"
      ]
     },
     "execution_count": 54,
     "metadata": {},
     "output_type": "execute_result"
    }
   ],
   "source": [
    "s.argmax(axis=1)"
   ]
  },
  {
   "cell_type": "code",
   "execution_count": 82,
   "id": "590febf2-7cbd-4ca2-b0d9-c08243cfe7e5",
   "metadata": {
    "editable": true,
    "slideshow": {
     "slide_type": ""
    },
    "tags": []
   },
   "outputs": [],
   "source": [
    "def mandelbrot(h, w, maxit=20, r=2):\n",
    "    x = np.linspace(-2.5, 1.5, 4*h + 1)\n",
    "    y = np.linspace(-1.5, 1.5, 3*w + 1)\n",
    "    A, B = np.meshgrid(x, y)\n",
    "    C = A + B*1j\n",
    "    z = np.zeros_like(C)\n",
    "    # create a 2D grid where each element is set\n",
    "    # max iteration (e.g. 20)\n",
    "    divtime = maxit + np.zeros(z.shape, dtype=int)\n",
    "    for i in range(maxit):\n",
    "        z = z ** 2 + C\n",
    "        # compute a 2D mask where each element\n",
    "        # is True if abs(element)>r\n",
    "        diverge = abs(z) > r\n",
    "        # compute 2D mask where each element\n",
    "        # is True if it contains the maximum\n",
    "        # number of iterations (initialisation value) \n",
    "        # AND it diverges\n",
    "        div_now = diverge & (divtime == maxit)\n",
    "        # assign the iteration id to all the elements\n",
    "        # which diverge and have a value == max iterations\n",
    "        divtime[div_now] = i\n",
    "        # assign the value 'r' to all elements that diverge\n",
    "        z[diverge] = r\n",
    "        \n",
    "    return divtime\n",
    "    "
   ]
  },
  {
   "cell_type": "code",
   "execution_count": 87,
   "id": "e154525b-6cfc-404f-8317-78cb53d4a24d",
   "metadata": {},
   "outputs": [
    {
     "data": {
      "text/plain": [
       "<matplotlib.image.AxesImage at 0x7f1cebbc0f50>"
      ]
     },
     "execution_count": 87,
     "metadata": {},
     "output_type": "execute_result"
    },
    {
     "data": {
      "image/png": "[encoded data removed]",
      "text/plain": [
       "<Figure size 640x480 with 1 Axes>"
      ]
     },
     "metadata": {},
     "output_type": "display_data"
    }
   ],
   "source": [
    "plt.clf()\n",
    "plt.imshow(mandelbrot(400, 400, 50, 10.5))"
   ]
  },
  {
   "cell_type": "code",
   "execution_count": 97,
   "id": "b3ecae41-4c6c-4b86-943a-05cf9806c77b",
   "metadata": {},
   "outputs": [
    {
     "data": {
      "text/plain": [
       "[<matplotlib.lines.Line2D at 0x7f1ce81d6e90>]"
      ]
     },
     "execution_count": 97,
     "metadata": {},
     "output_type": "execute_result"
    },
    {
     "data": {
      "image/png": "[encoded data removed]",
      "text/plain": [
       "<Figure size 640x480 with 1 Axes>"
      ]
     },
     "metadata": {},
     "output_type": "display_data"
    }
   ],
   "source": [
    "fig, ax = plt.subplots()\n",
    "mu, sigma = 2, 0.5\n",
    "v = rg.normal(mu, sigma, 10000)\n",
    "(n, bins) = np.histogram(v, bins=50, density=True) \n",
    "ax.hist(v, bins=50, density=True)\n",
    "ax.plot(.5 * (bins[1:] + bins[:-1]), n) "
   ]
  },
  {
   "cell_type": "code",
   "execution_count": 101,
   "id": "b4912ade-6219-4d1e-b45b-e30f7bb078fd",
   "metadata": {
    "editable": true,
    "slideshow": {
     "slide_type": ""
    },
    "tags": []
   },
   "outputs": [
    {
     "name": "stdout",
     "output_type": "stream",
     "text": [
      "2.0\n",
      "0.0\n",
      "1.0\n",
      "5.0\n",
      "4.0\n",
      "1.0\n"
     ]
    }
   ],
   "source": [
    "it = np.nditer(a)\n",
    "for i in it:\n",
    "    print(i)"
   ]
  },
  {
   "cell_type": "code",
   "execution_count": 107,
   "id": "a5a25aae-704f-4f14-8213-8496c6b01e30",
   "metadata": {},
   "outputs": [
    {
     "data": {
      "text/plain": [
       "2"
      ]
     },
     "execution_count": 107,
     "metadata": {},
     "output_type": "execute_result"
    }
   ],
   "source": [
    "a.ndim"
   ]
  },
  {
   "cell_type": "code",
   "execution_count": null,
   "id": "ae2d0d79-9c27-4538-99e3-3f009c7b73a1",
   "metadata": {
    "editable": true,
    "slideshow": {
     "slide_type": ""
    },
    "tags": []
   },
   "outputs": [],
   "source": []
  }
 ],
 "metadata": {
  "kernelspec": {
   "display_name": "Python 3 (ipykernel)",
   "language": "python",
   "name": "python3"
  },
  "language_info": {
   "codemirror_mode": {
    "name": "ipython",
    "version": 3
   },
   "file_extension": ".py",
   "mimetype": "text/x-python",
   "name": "python",
   "nbconvert_exporter": "python",
   "pygments_lexer": "ipython3",
   "version": "3.13.5"
  }
 },
 "nbformat": 4,
 "nbformat_minor": 5
}
