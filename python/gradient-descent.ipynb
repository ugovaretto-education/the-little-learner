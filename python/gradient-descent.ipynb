{
 "cells": [
  {
   "cell_type": "code",
   "execution_count": null,
   "id": "f8d5aa61-75a8-4a0d-84d3-adf8840329ed",
   "metadata": {},
   "outputs": [],
   "source": [
    "!pip install numpy"
   ]
  },
  {
   "cell_type": "code",
   "execution_count": null,
   "id": "5a38b964-2730-48b2-8535-9821ca7c7694",
   "metadata": {},
   "outputs": [],
   "source": [
    "!pip install matplotlib"
   ]
  },
  {
   "cell_type": "code",
   "execution_count": null,
   "id": "7b032a27-b057-4025-aba0-3f48d94891f8",
   "metadata": {},
   "outputs": [],
   "source": [
    "!pip install seaborn"
   ]
  },
  {
   "cell_type": "code",
   "execution_count": null,
   "id": "40ae9cd0-bc8f-44a4-9a0b-cc0df6569d53",
   "metadata": {},
   "outputs": [],
   "source": [
    "!pip install pandas"
   ]
  },
  {
   "cell_type": "code",
   "execution_count": 39,
   "id": "3b42bf72-d9b8-41e1-8365-8addbe1e5316",
   "metadata": {},
   "outputs": [],
   "source": [
    "import numpy as np"
   ]
  },
  {
   "cell_type": "markdown",
   "id": "1a6f3beb-c9a8-47a9-83c0-b926608ecab5",
   "metadata": {},
   "source": [
    "# Functions"
   ]
  },
  {
   "cell_type": "code",
   "execution_count": 41,
   "id": "998c6336-d577-426e-89e0-a3111a6114e0",
   "metadata": {},
   "outputs": [],
   "source": [
    "eps = 1e-8"
   ]
  },
  {
   "cell_type": "code",
   "execution_count": 42,
   "id": "4cfa9475-ee12-4338-a2aa-f3d955cbd9b7",
   "metadata": {},
   "outputs": [],
   "source": [
    "def l2_loss(xs, ys):\n",
    "    return np.sum((xs - ys)**2)"
   ]
  },
  {
   "cell_type": "code",
   "execution_count": 43,
   "id": "6843d1d5-7470-4717-948a-d5f1c0cbdcfc",
   "metadata": {},
   "outputs": [],
   "source": [
    "def line(theta, xs):\n",
    "    return theta[0] * xs + theta[1]"
   ]
  },
  {
   "cell_type": "code",
   "execution_count": 44,
   "id": "e0a71713-19e4-4840-8c50-4aa6951594c5",
   "metadata": {},
   "outputs": [],
   "source": [
    "def line_eq(theta):\n",
    "    return lambda x: theta[0] * x + theta[1] "
   ]
  },
  {
   "cell_type": "code",
   "execution_count": 45,
   "id": "0b4b3eb4-5885-4c37-adde-8a22c5ac6d70",
   "metadata": {},
   "outputs": [],
   "source": [
    "def floss(f, xs, expected_ys):\n",
    "    fv = np.vectorize(f)\n",
    "    return l2_loss(fv(xs), expected_ys)"
   ]
  },
  {
   "cell_type": "code",
   "execution_count": 48,
   "id": "c3243266-53b1-4633-b8d9-3391a0371b0b",
   "metadata": {
    "editable": true,
    "slideshow": {
     "slide_type": ""
    },
    "tags": []
   },
   "outputs": [],
   "source": [
    "def gradient_1d(f, xs):\n",
    "    grad = np.zeros_like(xs)\n",
    "    for i in range(xs.shape[0]):\n",
    "        x1 = xs.copy()\n",
    "        x1[i] += eps\n",
    "        x0 = xs.copy()\n",
    "        x0[i] -= eps\n",
    "        grad[i] = f(x1 - x0)/(2*eps)\n",
    "    return grad"
   ]
  },
  {
   "cell_type": "code",
   "execution_count": 49,
   "id": "28b61c69-0185-4b3a-8cbb-24d580315b5f",
   "metadata": {
    "editable": true,
    "slideshow": {
     "slide_type": ""
    },
    "tags": []
   },
   "outputs": [],
   "source": [
    "def gradient_nd(f, xs):\n",
    "    xf = xs.flatten()\n",
    "    grad = np.zeros_like(xf)\n",
    "    for i in range(xs.shape[0]):\n",
    "        x1 = xf.copy()\n",
    "        xf[i] += eps\n",
    "        x0 = xf.copy()\n",
    "        x0[i] -= eps\n",
    "        grad[i] = f((x1 - x0).reshape(xs.shape))/(2*eps)\n",
    "    return grad.reshape(xs.shape)"
   ]
  },
  {
   "cell_type": "code",
   "execution_count": 50,
   "id": "a278c361-55ae-4a30-bf9a-5f28d2b22c24",
   "metadata": {
    "editable": true,
    "slideshow": {
     "slide_type": ""
    },
    "tags": []
   },
   "outputs": [],
   "source": [
    "def gradient(f, x):\n",
    "    if x.ndim == 1:\n",
    "        return gradient_1d(f, x)\n",
    "    else:\n",
    "        return gradient_nd(f, x)"
   ]
  },
  {
   "cell_type": "code",
   "execution_count": 25,
   "id": "c521bbbd-ebed-4a4c-90ec-1e40718c6b9a",
   "metadata": {
    "editable": true,
    "slideshow": {
     "slide_type": ""
    },
    "tags": []
   },
   "outputs": [],
   "source": [
    "def revisions(f, x, n, d=eps):\n",
    "    for _ in range(n):\n",
    "        xp = x\n",
    "        x = f(x)\n",
    "        if np.abs(x - xp) <= d:\n",
    "            break\n",
    "    return x"
   ]
  },
  {
   "cell_type": "code",
   "execution_count": 26,
   "id": "dbd40b99-366d-4c2d-a1a4-c4065a16ba93",
   "metadata": {},
   "outputs": [],
   "source": [
    "def gradient_descent(f, x, a, rev):\n",
    "    return revisions(lambda x: x - a * np.abs(gradient(f,x)), rev)"
   ]
  },
  {
   "cell_type": "code",
   "execution_count": 27,
   "id": "7c87dab8-7ae1-4426-9561-4f30bbde1622",
   "metadata": {},
   "outputs": [],
   "source": [
    "def sample(xs, n):\n",
    "    np.random.choice(xs, size=n)"
   ]
  },
  {
   "cell_type": "markdown",
   "id": "80f67811-e00c-4b53-88ec-662c9fb73a53",
   "metadata": {},
   "source": [
    "# Playground"
   ]
  },
  {
   "cell_type": "code",
   "execution_count": 40,
   "id": "64f2beb6-2dd6-4093-bcb2-a359d01a4f6b",
   "metadata": {
    "editable": true,
    "slideshow": {
     "slide_type": ""
    },
    "tags": []
   },
   "outputs": [],
   "source": [
    "line_xs = np.array([2.0, 1.0, 4.0, 3.0])\n",
    "line_ys = np.array([1.8, 1.2, 4.2, 3.3])\n",
    "theta_0 = np.array([0.,0.]) # m = 0, c (intercept) = 0\n",
    "theta_1 = np.array([0.0099, 0.])"
   ]
  },
  {
   "cell_type": "code",
   "execution_count": 24,
   "id": "b40e98cd-2b59-4622-83cf-77ea870439b0",
   "metadata": {},
   "outputs": [
    {
     "data": {
      "text/plain": [
       "np.float64(3.999999975690116)"
      ]
     },
     "execution_count": 24,
     "metadata": {},
     "output_type": "execute_result"
    }
   ],
   "source": [
    "gradient(f, np.array([2,5]))"
   ]
  },
  {
   "cell_type": "code",
   "execution_count": 19,
   "id": "ddef598a-344c-4a27-abfc-a71b1c8d7286",
   "metadata": {},
   "outputs": [
    {
     "data": {
      "text/plain": [
       "array([0.0198, 0.0099, 0.0396, 0.0297])"
      ]
     },
     "execution_count": 19,
     "metadata": {},
     "output_type": "execute_result"
    }
   ],
   "source": [
    "line(theta_1, line_xs)"
   ]
  },
  {
   "cell_type": "code",
   "execution_count": 16,
   "id": "41fea996-a546-41c4-93de-1f09548f4359",
   "metadata": {},
   "outputs": [],
   "source": [
    "ys = line_ys + 0.02"
   ]
  },
  {
   "cell_type": "code",
   "execution_count": 17,
   "id": "769cc4e0-72ec-4f2f-9409-de93bc890eba",
   "metadata": {},
   "outputs": [
    {
     "data": {
      "text/plain": [
       "np.float64(0.0015999999999999851)"
      ]
     },
     "execution_count": 17,
     "metadata": {},
     "output_type": "execute_result"
    }
   ],
   "source": [
    "l2_loss(line_ys, ys)"
   ]
  },
  {
   "cell_type": "code",
   "execution_count": 30,
   "id": "d9c94f59-0201-4e84-8c13-6a5bcd4eed9d",
   "metadata": {},
   "outputs": [],
   "source": [
    "f = np.vectorize(lambda x: x+1)"
   ]
  },
  {
   "cell_type": "code",
   "execution_count": 32,
   "id": "87fcb89b-3b79-4e09-865a-e3c298c0a5ef",
   "metadata": {},
   "outputs": [
    {
     "data": {
      "text/plain": [
       "array([5, 7, 8, 4])"
      ]
     },
     "execution_count": 32,
     "metadata": {},
     "output_type": "execute_result"
    }
   ],
   "source": [
    "f(np.array([4,6,7,3]))"
   ]
  },
  {
   "cell_type": "code",
   "execution_count": 38,
   "id": "4fd6cd4e-ec63-4a4e-9043-f293fc27ec00",
   "metadata": {},
   "outputs": [
    {
     "ename": "NameError",
     "evalue": "name 'a' is not defined",
     "output_type": "error",
     "traceback": [
      "\u001b[31m---------------------------------------------------------------------------\u001b[39m",
      "\u001b[31mNameError\u001b[39m                                 Traceback (most recent call last)",
      "\u001b[36mCell\u001b[39m\u001b[36m \u001b[39m\u001b[32mIn[38]\u001b[39m\u001b[32m, line 1\u001b[39m\n\u001b[32m----> \u001b[39m\u001b[32m1\u001b[39m \u001b[43ma\u001b[49m\n",
      "\u001b[31mNameError\u001b[39m: name 'a' is not defined"
     ]
    }
   ],
   "source": [
    "a"
   ]
  },
  {
   "cell_type": "code",
   "execution_count": null,
   "id": "c242fea4-ff0d-4a43-8109-53b959fbaf11",
   "metadata": {},
   "outputs": [],
   "source": []
  }
 ],
 "metadata": {
  "kernelspec": {
   "display_name": "Python 3 (ipykernel)",
   "language": "python",
   "name": "python3"
  },
  "language_info": {
   "codemirror_mode": {
    "name": "ipython",
    "version": 3
   },
   "file_extension": ".py",
   "mimetype": "text/x-python",
   "name": "python",
   "nbconvert_exporter": "python",
   "pygments_lexer": "ipython3",
   "version": "3.13.5"
  }
 },
 "nbformat": 4,
 "nbformat_minor": 5
}
